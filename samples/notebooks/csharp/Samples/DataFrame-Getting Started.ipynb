{
 "cells": [
  {
   "cell_type": "markdown",
   "source": [
    "[this doc on github](https://github.com/dotnet/interactive/tree/master/samples/notebooks/csharp/Samples)\n"
   ],
   "metadata": {}
  },
  {
   "cell_type": "code",
   "execution_count": null,
   "source": [
    "#r \"nuget:Microsoft.Data.Analysis\"\r\n",
    "#r \"nuget:XPlot.Plotly.Interactive\"\r\n",
    "\r\n",
    "using Microsoft.Data.Analysis;\r\n",
    "using static Microsoft.DotNet.Interactive.Formatting.PocketViewTags;\r\n",
    "using Microsoft.DotNet.Interactive.Formatting;"
   ],
   "outputs": [
    {
     "data": {
      "text/html": [
       "<div><div></div><div></div><div><strong>Installed Packages</strong><ul><li><span>Microsoft.Data.Analysis, 0.18.0</span></li><li><span>XPlot.Plotly.Interactive, 4.0.3</span></li></ul></div></div>"
      ]
     },
     "metadata": {},
     "output_type": "display_data"
    },
    {
     "data": {
      "text/markdown": [
       "Loading extensions from `XPlot.Plotly.Interactive.dll`"
      ]
     },
     "metadata": {},
     "output_type": "display_data"
    },
    {
     "data": {
      "text/markdown": [
       "Configuring PowerShell Kernel for XPlot.Plotly integration."
      ]
     },
     "metadata": {},
     "output_type": "display_data"
    },
    {
     "data": {
      "text/markdown": [
       "Installed support for XPlot.Plotly."
      ]
     },
     "metadata": {},
     "output_type": "display_data"
    },
    {
     "data": {
      "text/markdown": [
       "Loading extensions from `Microsoft.Data.Analysis.Interactive.dll`"
      ]
     },
     "metadata": {},
     "output_type": "display_data"
    }
   ],
   "metadata": {
    "dotnet_interactive": {
     "language": "csharp"
    }
   }
  },
  {
   "cell_type": "code",
   "execution_count": null,
   "source": [
    "PrimitiveDataFrameColumn<DateTime> dateTimes = new PrimitiveDataFrameColumn<DateTime>(\"DateTimes\"); // Default length is 0.\r\n",
    "PrimitiveDataFrameColumn<int> ints = new PrimitiveDataFrameColumn<int>(\"Ints\", 3); // Makes a column of length 3. Filled with nulls initially\r\n",
    "StringDataFrameColumn strings = new StringDataFrameColumn(\"Strings\", 3); // Makes a column of length 3. Filled with nulls initially"
   ],
   "outputs": [],
   "metadata": {
    "dotnet_interactive": {
     "language": "csharp"
    }
   }
  },
  {
   "cell_type": "code",
   "execution_count": null,
   "source": [
    "// Append 3 values to dateTimes\r\n",
    "dateTimes.Append(DateTime.Parse(\"2019/01/01\"));\r\n",
    "dateTimes.Append(DateTime.Parse(\"2019/01/01\"));\r\n",
    "dateTimes.Append(DateTime.Parse(\"2019/01/02\"));"
   ],
   "outputs": [],
   "metadata": {
    "dotnet_interactive": {
     "language": "csharp"
    }
   }
  },
  {
   "cell_type": "code",
   "execution_count": null,
   "source": [
    "DataFrame df = new DataFrame(dateTimes, ints, strings ); // This will throw if the columns are of different lengths"
   ],
   "outputs": [],
   "metadata": {
    "dotnet_interactive": {
     "language": "csharp"
    }
   }
  },
  {
   "cell_type": "code",
   "execution_count": null,
   "source": [
    "df"
   ],
   "outputs": [
    {
     "data": {
      "text/html": [
       "<table id=\"table_637679900474934301\"><thead><tr><th><i>index</i></th><th>DateTimes</th><th>Ints</th><th>Strings</th></tr></thead><tbody><tr><td><i><div class=\"dni-plaintext\">0</div></i></td><td><span>2019-01-01 00:00:00Z</span></td><td><div class=\"dni-plaintext\">&lt;null&gt;</div></td><td><div class=\"dni-plaintext\">&lt;null&gt;</div></td></tr><tr><td><i><div class=\"dni-plaintext\">1</div></i></td><td><span>2019-01-01 00:00:00Z</span></td><td><div class=\"dni-plaintext\">&lt;null&gt;</div></td><td><div class=\"dni-plaintext\">&lt;null&gt;</div></td></tr><tr><td><i><div class=\"dni-plaintext\">2</div></i></td><td><span>2019-01-02 00:00:00Z</span></td><td><div class=\"dni-plaintext\">&lt;null&gt;</div></td><td><div class=\"dni-plaintext\">&lt;null&gt;</div></td></tr></tbody></table>"
      ]
     },
     "metadata": {},
     "output_type": "display_data"
    }
   ],
   "metadata": {
    "dotnet_interactive": {
     "language": "csharp"
    }
   }
  },
  {
   "cell_type": "code",
   "execution_count": null,
   "source": [
    "// To change a value directly through df\r\n",
    "df[0, 1] = 10; // 0 is the rowIndex, and 1 is the columnIndex. This sets the 0th value in the Ints columns to 10\r\n",
    "df"
   ],
   "outputs": [
    {
     "data": {
      "text/html": [
       "<table id=\"table_637679900514389044\"><thead><tr><th><i>index</i></th><th>DateTimes</th><th>Ints</th><th>Strings</th></tr></thead><tbody><tr><td><i><div class=\"dni-plaintext\">0</div></i></td><td><span>2019-01-01 00:00:00Z</span></td><td><div class=\"dni-plaintext\">10</div></td><td><div class=\"dni-plaintext\">&lt;null&gt;</div></td></tr><tr><td><i><div class=\"dni-plaintext\">1</div></i></td><td><span>2019-01-01 00:00:00Z</span></td><td><div class=\"dni-plaintext\">&lt;null&gt;</div></td><td><div class=\"dni-plaintext\">&lt;null&gt;</div></td></tr><tr><td><i><div class=\"dni-plaintext\">2</div></i></td><td><span>2019-01-02 00:00:00Z</span></td><td><div class=\"dni-plaintext\">&lt;null&gt;</div></td><td><div class=\"dni-plaintext\">&lt;null&gt;</div></td></tr></tbody></table>"
      ]
     },
     "metadata": {},
     "output_type": "display_data"
    }
   ],
   "metadata": {
    "dotnet_interactive": {
     "language": "csharp"
    }
   }
  },
  {
   "cell_type": "code",
   "execution_count": null,
   "source": [
    "// Modify ints and strings columns by indexing\r\n",
    "ints[1] = 100;\r\n",
    "strings[1] = \"Foo!\";\r\n",
    "df"
   ],
   "outputs": [
    {
     "data": {
      "text/html": [
       "<table id=\"table_637679900541448241\"><thead><tr><th><i>index</i></th><th>DateTimes</th><th>Ints</th><th>Strings</th></tr></thead><tbody><tr><td><i><div class=\"dni-plaintext\">0</div></i></td><td><span>2019-01-01 00:00:00Z</span></td><td><div class=\"dni-plaintext\">10</div></td><td><div class=\"dni-plaintext\">&lt;null&gt;</div></td></tr><tr><td><i><div class=\"dni-plaintext\">1</div></i></td><td><span>2019-01-01 00:00:00Z</span></td><td><div class=\"dni-plaintext\">100</div></td><td>Foo!</td></tr><tr><td><i><div class=\"dni-plaintext\">2</div></i></td><td><span>2019-01-02 00:00:00Z</span></td><td><div class=\"dni-plaintext\">&lt;null&gt;</div></td><td><div class=\"dni-plaintext\">&lt;null&gt;</div></td></tr></tbody></table>"
      ]
     },
     "metadata": {},
     "output_type": "display_data"
    }
   ],
   "metadata": {
    "dotnet_interactive": {
     "language": "csharp"
    }
   }
  },
  {
   "cell_type": "code",
   "execution_count": null,
   "source": [
    "// Indexing can throw when types don't match.\r\n",
    "// ints[1] = \"this will throw because I am a string\";  \r\n",
    "// Info can be used to figure out the type of data in a column. \r\n",
    "df.Info()"
   ],
   "outputs": [
    {
     "data": {
      "text/html": [
       "<table id=\"table_637679900570523746\"><thead><tr><th><i>index</i></th><th>Info</th><th>DateTimes</th><th>Ints</th><th>Strings</th></tr></thead><tbody><tr><td><i><div class=\"dni-plaintext\">0</div></i></td><td>DataType</td><td>System.DateTime</td><td>System.Int32</td><td>System.String</td></tr><tr><td><i><div class=\"dni-plaintext\">1</div></i></td><td>Length (excluding null values)</td><td>3</td><td>2</td><td>3</td></tr></tbody></table>"
      ]
     },
     "metadata": {},
     "output_type": "display_data"
    }
   ],
   "metadata": {
    "dotnet_interactive": {
     "language": "csharp"
    }
   }
  },
  {
   "cell_type": "code",
   "execution_count": null,
   "source": [
    "// Add 5 to ints through the DataFrame\r\n",
    "df[\"Ints\"].Add(5, inPlace: true);\r\n",
    "df"
   ],
   "outputs": [
    {
     "data": {
      "text/html": [
       "<table id=\"table_637679900593042529\"><thead><tr><th><i>index</i></th><th>DateTimes</th><th>Ints</th><th>Strings</th></tr></thead><tbody><tr><td><i><div class=\"dni-plaintext\">0</div></i></td><td><span>2019-01-01 00:00:00Z</span></td><td><div class=\"dni-plaintext\">15</div></td><td><div class=\"dni-plaintext\">&lt;null&gt;</div></td></tr><tr><td><i><div class=\"dni-plaintext\">1</div></i></td><td><span>2019-01-01 00:00:00Z</span></td><td><div class=\"dni-plaintext\">105</div></td><td>Foo!</td></tr><tr><td><i><div class=\"dni-plaintext\">2</div></i></td><td><span>2019-01-02 00:00:00Z</span></td><td><div class=\"dni-plaintext\">&lt;null&gt;</div></td><td><div class=\"dni-plaintext\">&lt;null&gt;</div></td></tr></tbody></table>"
      ]
     },
     "metadata": {},
     "output_type": "display_data"
    }
   ],
   "metadata": {
    "dotnet_interactive": {
     "language": "csharp"
    }
   }
  },
  {
   "cell_type": "code",
   "execution_count": null,
   "source": [
    "// We can also use binary operators. Binary operators produce a copy, so assign it back to our Ints column \r\n",
    "df[\"Ints\"] = (ints / 5) * 100;\r\n",
    "df"
   ],
   "outputs": [
    {
     "data": {
      "text/html": [
       "<table id=\"table_637679900621233594\"><thead><tr><th><i>index</i></th><th>DateTimes</th><th>Ints</th><th>Strings</th></tr></thead><tbody><tr><td><i><div class=\"dni-plaintext\">0</div></i></td><td><span>2019-01-01 00:00:00Z</span></td><td><div class=\"dni-plaintext\">300</div></td><td><div class=\"dni-plaintext\">&lt;null&gt;</div></td></tr><tr><td><i><div class=\"dni-plaintext\">1</div></i></td><td><span>2019-01-01 00:00:00Z</span></td><td><div class=\"dni-plaintext\">2100</div></td><td>Foo!</td></tr><tr><td><i><div class=\"dni-plaintext\">2</div></i></td><td><span>2019-01-02 00:00:00Z</span></td><td><div class=\"dni-plaintext\">&lt;null&gt;</div></td><td><div class=\"dni-plaintext\">&lt;null&gt;</div></td></tr></tbody></table>"
      ]
     },
     "metadata": {},
     "output_type": "display_data"
    }
   ],
   "metadata": {
    "dotnet_interactive": {
     "language": "csharp"
    }
   }
  },
  {
   "cell_type": "code",
   "execution_count": null,
   "source": [
    "// Fill nulls in our columns, if any. Ints[2], Strings[0] and Strings[1] are null\r\n",
    "df[\"Ints\"].FillNulls(-1, inPlace: true);\r\n",
    "df[\"Strings\"].FillNulls(\"Bar\", inPlace: true);\r\n",
    "df"
   ],
   "outputs": [
    {
     "data": {
      "text/html": [
       "<table id=\"table_637679900643821045\"><thead><tr><th><i>index</i></th><th>DateTimes</th><th>Ints</th><th>Strings</th></tr></thead><tbody><tr><td><i><div class=\"dni-plaintext\">0</div></i></td><td><span>2019-01-01 00:00:00Z</span></td><td><div class=\"dni-plaintext\">300</div></td><td>Bar</td></tr><tr><td><i><div class=\"dni-plaintext\">1</div></i></td><td><span>2019-01-01 00:00:00Z</span></td><td><div class=\"dni-plaintext\">2100</div></td><td>Foo!</td></tr><tr><td><i><div class=\"dni-plaintext\">2</div></i></td><td><span>2019-01-02 00:00:00Z</span></td><td><div class=\"dni-plaintext\">-1</div></td><td>Bar</td></tr></tbody></table>"
      ]
     },
     "metadata": {},
     "output_type": "display_data"
    }
   ],
   "metadata": {
    "dotnet_interactive": {
     "language": "csharp"
    }
   }
  },
  {
   "cell_type": "code",
   "execution_count": null,
   "source": [
    "// To inspect the first row\r\n",
    "DataFrameRow row0 = df.Rows[0];\r\n",
    "row0"
   ],
   "outputs": [
    {
     "data": {
      "text/html": [
       "<table><thead><tr><th><i>index</i></th><th><i>type</i></th><th>value</th></tr></thead><tbody><tr><td>0</td><td><span><a href=\"https://docs.microsoft.com/dotnet/api/system.datetime?view=net-5.0\">System.DateTime</a></span></td><td><span>2019-01-01 00:00:00Z</span></td></tr><tr><td>1</td><td><span><a href=\"https://docs.microsoft.com/dotnet/api/system.int32?view=net-5.0\">System.Int32</a></span></td><td><div class=\"dni-plaintext\">300</div></td></tr><tr><td>2</td><td><span><a href=\"https://docs.microsoft.com/dotnet/api/system.string?view=net-5.0\">System.String</a></span></td><td>Bar</td></tr></tbody></table>"
      ]
     },
     "metadata": {},
     "output_type": "display_data"
    }
   ],
   "metadata": {
    "dotnet_interactive": {
     "language": "csharp"
    }
   }
  },
  {
   "cell_type": "code",
   "execution_count": null,
   "source": [
    "using Microsoft.AspNetCore.Html;\r\n",
    "Formatter.Register<DataFrameRow>((dataFrameRow, writer) =>\r\n",
    "{\r\n",
    "    var cells = new List<IHtmlContent>();\r\n",
    "    cells.Add(td(i));\r\n",
    "    foreach (var obj in dataFrameRow)\r\n",
    "    {\r\n",
    "        cells.Add(td(obj));\r\n",
    "    }\r\n",
    "    \r\n",
    "    var t = table(\r\n",
    "        tbody(\r\n",
    "            cells));\r\n",
    "    \r\n",
    "    writer.Write(t);\r\n",
    "}, \"text/html\");"
   ],
   "outputs": [],
   "metadata": {
    "dotnet_interactive": {
     "language": "csharp"
    }
   }
  },
  {
   "cell_type": "code",
   "execution_count": null,
   "source": [
    "row0"
   ],
   "outputs": [
    {
     "data": {
      "text/html": [
       "<table><tbody><td><i></i></td><td><span>2019-01-01 00:00:00Z</span></td><td><div class=\"dni-plaintext\">300</div></td><td>Bar</td></tbody></table>"
      ]
     },
     "metadata": {},
     "output_type": "display_data"
    }
   ],
   "metadata": {
    "dotnet_interactive": {
     "language": "csharp"
    }
   }
  },
  {
   "cell_type": "code",
   "execution_count": null,
   "source": [
    "// Filter rows based on equality\r\n",
    "PrimitiveDataFrameColumn<bool> boolFilter = df[\"Strings\"].ElementwiseEquals(\"Bar\");\r\n",
    "boolFilter"
   ],
   "outputs": [
    {
     "data": {
      "text/html": [
       "<table><thead><tr><th><i>index</i></th><th>value</th></tr></thead><tbody><tr><td>0</td><td><div class=\"dni-plaintext\">True</div></td></tr><tr><td>1</td><td><div class=\"dni-plaintext\">False</div></td></tr><tr><td>2</td><td><div class=\"dni-plaintext\">True</div></td></tr></tbody></table>"
      ]
     },
     "metadata": {},
     "output_type": "display_data"
    }
   ],
   "metadata": {
    "dotnet_interactive": {
     "language": "csharp"
    }
   }
  },
  {
   "cell_type": "code",
   "execution_count": null,
   "source": [
    "DataFrame filtered = df.Filter(boolFilter);\r\n",
    "filtered"
   ],
   "outputs": [
    {
     "data": {
      "text/html": [
       "<table id=\"table_637679900798350211\"><thead><tr><th><i>index</i></th><th>DateTimes</th><th>Ints</th><th>Strings</th></tr></thead><tbody><tr><td><i><div class=\"dni-plaintext\">0</div></i></td><td><span>2019-01-01 00:00:00Z</span></td><td><div class=\"dni-plaintext\">300</div></td><td>Bar</td></tr><tr><td><i><div class=\"dni-plaintext\">1</div></i></td><td><span>2019-01-02 00:00:00Z</span></td><td><div class=\"dni-plaintext\">-1</div></td><td>Bar</td></tr></tbody></table>"
      ]
     },
     "metadata": {},
     "output_type": "display_data"
    }
   ],
   "metadata": {
    "dotnet_interactive": {
     "language": "csharp"
    }
   }
  },
  {
   "cell_type": "code",
   "execution_count": null,
   "source": [
    "// Sort our dataframe using the Ints column\r\n",
    "DataFrame sorted = df.OrderBy(\"Ints\");\r\n",
    "sorted"
   ],
   "outputs": [
    {
     "data": {
      "text/html": [
       "<table id=\"table_637679900879056400\"><thead><tr><th><i>index</i></th><th>DateTimes</th><th>Ints</th><th>Strings</th></tr></thead><tbody><tr><td><i><div class=\"dni-plaintext\">0</div></i></td><td><span>2019-01-02 00:00:00Z</span></td><td><div class=\"dni-plaintext\">-1</div></td><td>Bar</td></tr><tr><td><i><div class=\"dni-plaintext\">1</div></i></td><td><span>2019-01-01 00:00:00Z</span></td><td><div class=\"dni-plaintext\">300</div></td><td>Bar</td></tr><tr><td><i><div class=\"dni-plaintext\">2</div></i></td><td><span>2019-01-01 00:00:00Z</span></td><td><div class=\"dni-plaintext\">2100</div></td><td>Foo!</td></tr></tbody></table>"
      ]
     },
     "metadata": {},
     "output_type": "display_data"
    }
   ],
   "metadata": {
    "dotnet_interactive": {
     "language": "csharp"
    }
   }
  },
  {
   "cell_type": "code",
   "execution_count": null,
   "source": [
    "// GroupBy \r\n",
    "GroupBy groupBy = df.GroupBy(\"DateTimes\");\r\n",
    "// Count of values in each group\r\n",
    "DataFrame groupCounts = groupBy.Count();\r\n",
    "groupCounts"
   ],
   "outputs": [
    {
     "data": {
      "text/html": [
       "<table id=\"table_637679900908070222\"><thead><tr><th><i>index</i></th><th>DateTimes</th><th>Ints</th><th>Strings</th></tr></thead><tbody><tr><td><i><div class=\"dni-plaintext\">0</div></i></td><td><span>2019-01-01 00:00:00Z</span></td><td><div class=\"dni-plaintext\">2</div></td><td><div class=\"dni-plaintext\">2</div></td></tr><tr><td><i><div class=\"dni-plaintext\">1</div></i></td><td><span>2019-01-02 00:00:00Z</span></td><td><div class=\"dni-plaintext\">1</div></td><td><div class=\"dni-plaintext\">1</div></td></tr></tbody></table>"
      ]
     },
     "metadata": {},
     "output_type": "display_data"
    }
   ],
   "metadata": {
    "dotnet_interactive": {
     "language": "csharp"
    }
   }
  },
  {
   "cell_type": "code",
   "execution_count": null,
   "source": [
    "// Alternatively find the sum of the values in each group in Ints\r\n",
    "DataFrame intsGroupSum = groupBy.Sum(\"Ints\");\r\n",
    "intsGroupSum"
   ],
   "outputs": [
    {
     "data": {
      "text/html": [
       "<table id=\"table_637679900924446422\"><thead><tr><th><i>index</i></th><th>DateTimes</th><th>Ints</th></tr></thead><tbody><tr><td><i><div class=\"dni-plaintext\">0</div></i></td><td><span>2019-01-01 00:00:00Z</span></td><td><div class=\"dni-plaintext\">2400</div></td></tr><tr><td><i><div class=\"dni-plaintext\">1</div></i></td><td><span>2019-01-02 00:00:00Z</span></td><td><div class=\"dni-plaintext\">-1</div></td></tr></tbody></table>"
      ]
     },
     "metadata": {},
     "output_type": "display_data"
    }
   ],
   "metadata": {
    "dotnet_interactive": {
     "language": "csharp"
    }
   }
  },
  {
   "cell_type": "code",
   "execution_count": null,
   "source": [
    "using XPlot.Plotly;\r\n",
    "using System.Linq;"
   ],
   "outputs": [],
   "metadata": {
    "dotnet_interactive": {
     "language": "csharp"
    }
   }
  },
  {
   "cell_type": "code",
   "execution_count": null,
   "source": [
    "#r \"nuget:MathNet.Numerics,4.9.0\""
   ],
   "outputs": [],
   "metadata": {
    "dotnet_interactive": {
     "language": "csharp"
    }
   }
  },
  {
   "cell_type": "code",
   "execution_count": null,
   "source": [
    "using MathNet.Numerics.Distributions;\r\n",
    "double mean = 0;\r\n",
    "double stdDev = 0.1;\r\n",
    "\r\n",
    "MathNet.Numerics.Distributions.Normal normalDist = new Normal(mean, stdDev);"
   ],
   "outputs": [],
   "metadata": {
    "dotnet_interactive": {
     "language": "csharp"
    }
   }
  },
  {
   "cell_type": "code",
   "execution_count": null,
   "source": [
    "PrimitiveDataFrameColumn<double> doubles = new PrimitiveDataFrameColumn<double>(\"Normal Distribution\", normalDist.Samples().Take(1000));\r\n",
    "display(Chart.Plot(\r\n",
    "    new Histogram()\r\n",
    "    {\r\n",
    "        x = doubles,\r\n",
    "        nbinsx = 30\r\n",
    "    }\r\n",
    "));"
   ],
   "outputs": [],
   "metadata": {
    "dotnet_interactive": {
     "language": "csharp"
    }
   }
  }
 ],
 "metadata": {
  "kernelspec": {
   "display_name": ".NET (C#)",
   "language": "C#",
   "name": ".net-csharp"
  },
  "language_info": {
   "file_extension": ".cs",
   "mimetype": "text/x-csharp",
   "name": "C#",
   "pygments_lexer": "csharp",
   "version": "8.0"
  }
 },
 "nbformat": 4,
 "nbformat_minor": 4
}